{
 "cells": [
  {
   "cell_type": "markdown",
   "id": "a5953b8e",
   "metadata": {},
   "source": [
    "<img src=\"logos.png\">"
   ]
  },
  {
   "cell_type": "markdown",
   "id": "1ac79ed6",
   "metadata": {},
   "source": [
    "The <a href=\"https://data.cervantesvirtual.com\">Biblioteca Virtual Miguel de Cervantes</a> published its catalogue in the form of Linked Open Data using as main vocabulary <a href=\"http://www.rdaregistry.info/\">Resource, Description and Access</a>.\n",
    "\n",
    "This example shows how to access the data by means of its API and using <a href=\"https://www.w3.org/TR/sparql11-query/\">SPARQL</a>."
   ]
  },
  {
   "cell_type": "markdown",
   "id": "59f28ca0",
   "metadata": {},
   "source": [
    "First of all, we include the packages to access the SPARQL endpoint."
   ]
  },
  {
   "cell_type": "code",
   "execution_count": 1,
   "id": "65355365",
   "metadata": {},
   "outputs": [],
   "source": [
    "from SPARQLWrapper import SPARQLWrapper, JSON\n",
    "\n",
    "sparql = SPARQLWrapper(\n",
    "    \"https://data.cervantesvirtual.com/sparql\"\n",
    ")\n",
    "sparql.setReturnFormat(JSON)\n",
    "sparql.addDefaultGraph(\"http://localhost:8890/DAV/bvmc\")"
   ]
  },
  {
   "cell_type": "markdown",
   "id": "117d62fb",
   "metadata": {},
   "source": [
    "Then, we state the SPARQL query."
   ]
  },
  {
   "cell_type": "code",
   "execution_count": 2,
   "id": "09f2d68f",
   "metadata": {},
   "outputs": [],
   "source": [
    "sparql.setQuery(\"\"\"\n",
    "    PREFIX rdac: <http://rdaregistry.info/Elements/c/>\n",
    "    PREFIX rdaw: <http://rdaregistry.info/Elements/w/>\n",
    "    PREFIX rdaa: <http://rdaregistry.info/Elements/a/>\n",
    "    PREFIX dc: <http://purl.org/dc/elements/1.1/>\n",
    "\n",
    "    SELECT DISTINCT ?title ?author ?name ?subject\n",
    "    WHERE {\n",
    "        <https://data.cervantesvirtual.com/work/2904> a rdac:Work .\n",
    "        <https://data.cervantesvirtual.com/work/2904> rdaw:titleOfTheWork ?title .\n",
    "        <https://data.cervantesvirtual.com/work/2904> dc:subject ?subject .\n",
    "        <https://data.cervantesvirtual.com/work/2904> rdaw:author ?author .\n",
    "        ?autor rdaa:nameOfThePerson ?name\n",
    "    }\n",
    "    LIMIT 10\n",
    "    \"\"\"\n",
    ")"
   ]
  },
  {
   "cell_type": "markdown",
   "id": "a083426a",
   "metadata": {},
   "source": [
    "Finally, we print the results."
   ]
  },
  {
   "cell_type": "code",
   "execution_count": 3,
   "id": "bf6a2515",
   "metadata": {},
   "outputs": [
    {
     "name": "stdout",
     "output_type": "stream",
     "text": [
      "Title:  El ingenioso hidalgo Don Quijote de la Mancha\n",
      "Subject:  Novela española -- Siglo 17º\n",
      "Author:  https://data.cervantesvirtual.com/person/40\n",
      "Name:  Olivan, Alejandro\n",
      "Title:  El ingenioso hidalgo Don Quijote de la Mancha\n",
      "Subject:  Novela española -- Siglo 17º\n",
      "Author:  https://data.cervantesvirtual.com/person/40\n",
      "Name:  Belando, Nicolás de Jesús, (O.F.M.)\n",
      "Title:  El ingenioso hidalgo Don Quijote de la Mancha\n",
      "Subject:  Novela española -- Siglo 17º\n",
      "Author:  https://data.cervantesvirtual.com/person/40\n",
      "Name:  Arias Teixeiro, Veremundo, Arzobispo de Valencia\n",
      "Title:  El ingenioso hidalgo Don Quijote de la Mancha\n",
      "Subject:  Novela española -- Siglo 17º\n",
      "Author:  https://data.cervantesvirtual.com/person/40\n",
      "Name:  Moyano, Juan\n",
      "Title:  El ingenioso hidalgo Don Quijote de la Mancha\n",
      "Subject:  Novela española -- Siglo 17º\n",
      "Author:  https://data.cervantesvirtual.com/person/40\n",
      "Name:  García de Honorato, Tomás\n",
      "Title:  El ingenioso hidalgo Don Quijote de la Mancha\n",
      "Subject:  Novela española -- Siglo 17º\n",
      "Author:  https://data.cervantesvirtual.com/person/40\n",
      "Name:  Jakob, Ludwig Heinrich, Ritter von\n",
      "Title:  El ingenioso hidalgo Don Quijote de la Mancha\n",
      "Subject:  Novela española -- Siglo 17º\n",
      "Author:  https://data.cervantesvirtual.com/person/40\n",
      "Name:  Corvera, Manuel de\n",
      "Title:  El ingenioso hidalgo Don Quijote de la Mancha\n",
      "Subject:  Novela española -- Siglo 17º\n",
      "Author:  https://data.cervantesvirtual.com/person/40\n",
      "Name:  Pérez Tafalla, Juan Miguel\n",
      "Title:  El ingenioso hidalgo Don Quijote de la Mancha\n",
      "Subject:  Novela española -- Siglo 17º\n",
      "Author:  https://data.cervantesvirtual.com/person/40\n",
      "Name:  Buenaventura, Santo, Cardenal \n",
      "Title:  El ingenioso hidalgo Don Quijote de la Mancha\n",
      "Subject:  Novela española -- Siglo 17º\n",
      "Author:  https://data.cervantesvirtual.com/person/40\n",
      "Name:  Tipographia Balleoniana\n"
     ]
    }
   ],
   "source": [
    "try:\n",
    "    ret = sparql.queryAndConvert()\n",
    "\n",
    "    for r in ret[\"results\"][\"bindings\"]:\n",
    "        print('Title: ', r['title']['value'])\n",
    "        print('Subject: ', r['subject']['value'])\n",
    "        print('Author: ', r['author']['value'])\n",
    "        print('Name: ', r['name']['value'])\n",
    "except Exception as e:\n",
    "    print(e)"
   ]
  },
  {
   "cell_type": "markdown",
   "id": "bd130899",
   "metadata": {},
   "source": [
    "Let's now reuse the information provided by Wikidata. We can retrieve the characters of a work by using the property wdt:P674 in Wikidata."
   ]
  },
  {
   "cell_type": "code",
   "execution_count": 4,
   "id": "e1ddf2d6",
   "metadata": {},
   "outputs": [],
   "source": [
    "sparql = SPARQLWrapper(\n",
    "    \"https://query.wikidata.org/sparql\"\n",
    ")\n",
    "sparql.setReturnFormat(JSON)\n",
    "\n",
    "sparql.setQuery(\"\"\"\n",
    "    PREFIX rdac: <http://rdaregistry.info/Elements/c/>\n",
    "    PREFIX rdaw: <http://rdaregistry.info/Elements/w/>\n",
    "    PREFIX rdaa: <http://rdaregistry.info/Elements/a/>\n",
    "    PREFIX dc: <http://purl.org/dc/elements/1.1/>\n",
    "\n",
    "    SELECT DISTINCT ?character ?characterLabel\n",
    "    WHERE {\n",
    "        ?work wdt:P3976 \"2904\".\n",
    "        ?work wdt:P674 ?character . \n",
    "        SERVICE wikibase:label { bd:serviceParam wikibase:language \"[AUTO_LANGUAGE],es\". }\n",
    "    }\n",
    "    LIMIT 50\n",
    "    \"\"\"\n",
    ")"
   ]
  },
  {
   "cell_type": "markdown",
   "id": "5257f9a4",
   "metadata": {},
   "source": [
    "Now we show the results."
   ]
  },
  {
   "cell_type": "code",
   "execution_count": 5,
   "id": "04ed6359",
   "metadata": {},
   "outputs": [
    {
     "name": "stdout",
     "output_type": "stream",
     "text": [
      "Character:  http://www.wikidata.org/entity/Q5129635\n",
      "Character:  Clavileño\n",
      "Character:  http://www.wikidata.org/entity/Q6120178\n",
      "Character:  Sansón Carrasco\n",
      "Character:  http://www.wikidata.org/entity/Q6072772\n",
      "Character:  Pero Pérez\n",
      "Character:  http://www.wikidata.org/entity/Q5563337\n",
      "Character:  Ginés de Pasamonte\n",
      "Character:  http://www.wikidata.org/entity/Q6113413\n",
      "Character:  el rucio\n",
      "Character:  http://www.wikidata.org/entity/Q23807432\n",
      "Character:  Maese Nicolás\n",
      "Character:  http://www.wikidata.org/entity/Q52733938\n",
      "Character:  Marcela\n",
      "Character:  http://www.wikidata.org/entity/Q56419457\n",
      "Character:  Don Fernando\n",
      "Character:  http://www.wikidata.org/entity/Q21401597\n",
      "Character:  Maritornes\n",
      "Character:  http://www.wikidata.org/entity/Q630823\n",
      "Character:  Sancho Panza\n",
      "Character:  http://www.wikidata.org/entity/Q1918252\n",
      "Character:  Rocinante\n",
      "Character:  http://www.wikidata.org/entity/Q52734852\n",
      "Character:  Dorotea\n",
      "Character:  http://www.wikidata.org/entity/Q56480586\n",
      "Character:  Anselmo\n",
      "Character:  http://www.wikidata.org/entity/Q56480571\n",
      "Character:  Camila\n",
      "Character:  http://www.wikidata.org/entity/Q944201\n",
      "Character:  Alonso Quijano\n",
      "Character:  http://www.wikidata.org/entity/Q56437455\n",
      "Character:  Zoraida\n",
      "Character:  http://www.wikidata.org/entity/Q2972300\n",
      "Character:  Cide Hamete Benengeli\n",
      "Character:  http://www.wikidata.org/entity/Q56480508\n",
      "Character:  Lotario\n",
      "Character:  http://www.wikidata.org/entity/Q1264776\n",
      "Character:  Dulcinea del Toboso\n",
      "Character:  http://www.wikidata.org/entity/Q56419440\n",
      "Character:  Luscinda\n",
      "Character:  http://www.wikidata.org/entity/Q56480859\n",
      "Character:  Juan Pérez de Viedma\n",
      "Character:  http://www.wikidata.org/entity/Q56480815\n",
      "Character:  Ruy Pérez de Viedma\n",
      "Character:  http://www.wikidata.org/entity/Q56419306\n",
      "Character:  Cardenio\n",
      "Character:  http://www.wikidata.org/entity/Q56482562\n",
      "Character:  Clara de Viedma\n",
      "Character:  http://www.wikidata.org/entity/Q56634053\n",
      "Character:  Teresa Panza\n"
     ]
    }
   ],
   "source": [
    "try:\n",
    "    ret = sparql.queryAndConvert()\n",
    "\n",
    "    for r in ret[\"results\"][\"bindings\"]:\n",
    "        print('Character: ', r['character']['value'])\n",
    "        print('Character: ', r['characterLabel']['value'])\n",
    "except Exception as e:\n",
    "    print(e)"
   ]
  },
  {
   "cell_type": "markdown",
   "id": "b385925a",
   "metadata": {},
   "source": [
    "Following the same approach, we can also retrieve the images of the characters included in Wikidata:"
   ]
  },
  {
   "cell_type": "code",
   "execution_count": 6,
   "id": "42413bd1",
   "metadata": {},
   "outputs": [],
   "source": [
    "sparql = SPARQLWrapper(\n",
    "    \"https://query.wikidata.org/sparql\"\n",
    ")\n",
    "sparql.setReturnFormat(JSON)\n",
    "\n",
    "sparql.setQuery(\"\"\"\n",
    "    PREFIX rdac: <http://rdaregistry.info/Elements/c/>\n",
    "    PREFIX rdaw: <http://rdaregistry.info/Elements/w/>\n",
    "    PREFIX rdaa: <http://rdaregistry.info/Elements/a/>\n",
    "    PREFIX dc: <http://purl.org/dc/elements/1.1/>\n",
    "\n",
    "    SELECT DISTINCT ?image ?characterLabel\n",
    "    WHERE {\n",
    "        ?work wdt:P3976 \"2904\".\n",
    "        ?work wdt:P674 ?character . \n",
    "        ?character wdt:P18 ?image .\n",
    "        SERVICE wikibase:label { bd:serviceParam wikibase:language \"[AUTO_LANGUAGE],es\". }\n",
    "    }\n",
    "    LIMIT 5\n",
    "    \"\"\"\n",
    ")"
   ]
  },
  {
   "cell_type": "code",
   "execution_count": 7,
   "id": "de52ddf3",
   "metadata": {},
   "outputs": [
    {
     "name": "stdout",
     "output_type": "stream",
     "text": [
      "Character:  Sancho Panza\n",
      "Image:  http://commons.wikimedia.org/wiki/Special:FilePath/1879%2C%20El%20ingenioso%20hidalgo%20D.%20Quijote%20de%20la%20Mancha%2C%20Sancho%20Panza%2C%20Mestres%20%28cropped%29.jpg\n"
     ]
    },
    {
     "data": {
      "text/html": [
       "<img width='100px' src='http://commons.wikimedia.org/wiki/Special:FilePath/1879%2C%20El%20ingenioso%20hidalgo%20D.%20Quijote%20de%20la%20Mancha%2C%20Sancho%20Panza%2C%20Mestres%20%28cropped%29.jpg'>"
      ],
      "text/plain": [
       "<IPython.core.display.HTML object>"
      ]
     },
     "metadata": {},
     "output_type": "display_data"
    },
    {
     "name": "stdout",
     "output_type": "stream",
     "text": [
      "Character:  Anselmo\n",
      "Image:  http://commons.wikimedia.org/wiki/Special:FilePath/202%20084%20quijote%20cap33%20%28cropped%29%20Anselmo.jpg\n"
     ]
    },
    {
     "data": {
      "text/html": [
       "<img width='100px' src='http://commons.wikimedia.org/wiki/Special:FilePath/202%20084%20quijote%20cap33%20%28cropped%29%20Anselmo.jpg'>"
      ],
      "text/plain": [
       "<IPython.core.display.HTML object>"
      ]
     },
     "metadata": {},
     "output_type": "display_data"
    },
    {
     "name": "stdout",
     "output_type": "stream",
     "text": [
      "Character:  Rocinante\n",
      "Image:  http://commons.wikimedia.org/wiki/Special:FilePath/CavalloChishotte.jpg\n"
     ]
    },
    {
     "data": {
      "text/html": [
       "<img width='100px' src='http://commons.wikimedia.org/wiki/Special:FilePath/CavalloChishotte.jpg'>"
      ],
      "text/plain": [
       "<IPython.core.display.HTML object>"
      ]
     },
     "metadata": {},
     "output_type": "display_data"
    },
    {
     "name": "stdout",
     "output_type": "stream",
     "text": [
      "Character:  Maritornes\n",
      "Image:  http://commons.wikimedia.org/wiki/Special:FilePath/Don%20Quijote%2C%20Luis%20Tasso%2C%20%281894%3F%29%20%22El%20lecho%2C%20que%20era%20un%20poco%20endeble...d%C3%ADo%20consigo%20en%20el%20suelo...%22%20%285789341875%29%20%28cropped%29%20Maritornes.jpg\n"
     ]
    },
    {
     "data": {
      "text/html": [
       "<img width='100px' src='http://commons.wikimedia.org/wiki/Special:FilePath/Don%20Quijote%2C%20Luis%20Tasso%2C%20%281894%3F%29%20%22El%20lecho%2C%20que%20era%20un%20poco%20endeble...d%C3%ADo%20consigo%20en%20el%20suelo...%22%20%285789341875%29%20%28cropped%29%20Maritornes.jpg'>"
      ],
      "text/plain": [
       "<IPython.core.display.HTML object>"
      ]
     },
     "metadata": {},
     "output_type": "display_data"
    },
    {
     "name": "stdout",
     "output_type": "stream",
     "text": [
      "Character:  Dorotea\n",
      "Image:  http://commons.wikimedia.org/wiki/Special:FilePath/1905-05-27%2C%20Blanco%20y%20Negro%2C%20Dorotea%2C%20Cecilio%20Pla%20%28cropped%29.jpg\n"
     ]
    },
    {
     "data": {
      "text/html": [
       "<img width='100px' src='http://commons.wikimedia.org/wiki/Special:FilePath/1905-05-27%2C%20Blanco%20y%20Negro%2C%20Dorotea%2C%20Cecilio%20Pla%20%28cropped%29.jpg'>"
      ],
      "text/plain": [
       "<IPython.core.display.HTML object>"
      ]
     },
     "metadata": {},
     "output_type": "display_data"
    }
   ],
   "source": [
    "from IPython.display import display, HTML\n",
    "\n",
    "try:\n",
    "    ret = sparql.queryAndConvert()\n",
    "\n",
    "    for r in ret[\"results\"][\"bindings\"]:\n",
    "        print('Character: ', r['characterLabel']['value'])\n",
    "        print('Image: ', r['image']['value'])\n",
    "        display(HTML(\"<img width='100px' src='\"+ r['image']['value'] +\"'>\"))\n",
    "except Exception as e:\n",
    "    print(e)"
   ]
  },
  {
   "cell_type": "code",
   "execution_count": null,
   "id": "94e9e7f5-4bc1-4b66-a0ac-a3eb39e1eeff",
   "metadata": {},
   "outputs": [],
   "source": []
  }
 ],
 "metadata": {
  "kernelspec": {
   "display_name": "Python 3",
   "language": "python",
   "name": "python3"
  },
  "language_info": {
   "codemirror_mode": {
    "name": "ipython",
    "version": 3
   },
   "file_extension": ".py",
   "mimetype": "text/x-python",
   "name": "python",
   "nbconvert_exporter": "python",
   "pygments_lexer": "ipython3",
   "version": "3.9.18"
  }
 },
 "nbformat": 4,
 "nbformat_minor": 5
}
